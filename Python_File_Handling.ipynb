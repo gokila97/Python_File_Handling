{
  "nbformat": 4,
  "nbformat_minor": 0,
  "metadata": {
    "colab": {
      "name": "Python_File_Handling.ipynb",
      "provenance": [],
      "authorship_tag": "ABX9TyOpkJ8BUXdDomb+1gFdtxdt",
      "include_colab_link": true
    },
    "kernelspec": {
      "name": "python3",
      "display_name": "Python 3"
    },
    "language_info": {
      "name": "python"
    }
  },
  "cells": [
    {
      "cell_type": "markdown",
      "metadata": {
        "id": "view-in-github",
        "colab_type": "text"
      },
      "source": [
        "<a href=\"https://colab.research.google.com/github/gokila97/Python_File_Handling/blob/main/Python_File_Handling.ipynb\" target=\"_parent\"><img src=\"https://colab.research.google.com/assets/colab-badge.svg\" alt=\"Open In Colab\"/></a>"
      ]
    },
    {
      "cell_type": "code",
      "source": [
        "# with statement\n",
        "f = open(\"C:\\\\Users\\\\NIKIGOKI\\\\Downloads.txt\")\n",
        "f = open()\n",
        "f.close()\n"
      ],
      "metadata": {
        "id": "uY-OzErVHvtJ"
      },
      "execution_count": null,
      "outputs": []
    },
    {
      "cell_type": "code",
      "execution_count": null,
      "metadata": {
        "colab": {
          "base_uri": "https://localhost:8080/"
        },
        "id": "nuF5kEoJED0A",
        "outputId": "b55e4fca-919f-4d64-d9c8-3eae5e57aa93"
      },
      "outputs": [
        {
          "output_type": "stream",
          "name": "stdout",
          "text": [
            "File Name is  C:\\Users\\NIKIGOKI\\Downloads.txt\n",
            "File Mode is  w\n",
            "File Property  False\n",
            "File Property  True\n",
            "File is closed or not  False\n",
            "File is closed or not  True\n"
          ]
        }
      ],
      "source": [
        "#write mode data operation\n",
        "\n",
        "f = open(\"C:\\\\Users\\\\NIKIGOKI\\\\Downloads.txt\",\"w\")\n",
        "print(\"File Name is \", f.name)\n",
        "print(\"File Mode is \", f.mode)\n",
        "print(\"File Property \", f.readable())\n",
        "print(\"File Property \", f.writable())\n",
        "print(\"File is closed or not \", f.closed)\n",
        "f.close()\n",
        "print(\"File is closed or not \", f.closed)"
      ]
    },
    {
      "cell_type": "code",
      "source": [
        "f = open(\"C:\\\\Users\\\\NIKIGOKI\\\\Downloads.txt\",\"r\")\n",
        "output = f.read(5)\n",
        "print(output)\n",
        "f.close()\n",
        "print(\"File is closed or not \", f.closed)"
      ],
      "metadata": {
        "colab": {
          "base_uri": "https://localhost:8080/"
        },
        "id": "vMP_hk_F9uMe",
        "outputId": "a80157a3-1a30-47b1-cc78-faa623c8bf9d"
      },
      "execution_count": null,
      "outputs": [
        {
          "output_type": "stream",
          "name": "stdout",
          "text": [
            "nikil\n",
            "File is closed or not  True\n"
          ]
        }
      ]
    },
    {
      "cell_type": "code",
      "source": [
        "f = open(\"C:\\\\Users\\\\NIKIGOKI\\\\Downloads.txt\",\"a\")\n",
        "f.write(\"nikil\\n\")"
      ],
      "metadata": {
        "colab": {
          "base_uri": "https://localhost:8080/"
        },
        "id": "MUtTRhmg9-HR",
        "outputId": "b7c3b277-4998-40ac-e266-74ea54cb7404"
      },
      "execution_count": null,
      "outputs": [
        {
          "output_type": "execute_result",
          "data": {
            "text/plain": [
              "6"
            ]
          },
          "metadata": {},
          "execution_count": 8
        }
      ]
    },
    {
      "cell_type": "code",
      "source": [
        "f = open(\"C:\\\\Users\\\\NIKIGOKI\\\\Downloads.txt\",\"a\")\n",
        "f.write(\"nikil\\n\")\n",
        "list = [\"nikil\", \"gokila\",]\n",
        "f.writelines(list)\n",
        "output = list\n",
        "print(output)\n",
        "f.close()"
      ],
      "metadata": {
        "colab": {
          "base_uri": "https://localhost:8080/"
        },
        "id": "P_9HummH_Wxx",
        "outputId": "4b0cf1e8-c6f6-4fc7-d10d-32cc8568bcda"
      },
      "execution_count": null,
      "outputs": [
        {
          "output_type": "stream",
          "name": "stdout",
          "text": [
            "['nikil', 'gokila']\n"
          ]
        }
      ]
    }
  ]
}